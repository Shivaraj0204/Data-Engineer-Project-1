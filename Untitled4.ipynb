{
 "cells": [
  {
   "cell_type": "code",
   "execution_count": 28,
   "id": "4499e8db-b757-4650-ba55-aa8b42e65cc5",
   "metadata": {},
   "outputs": [],
   "source": [
    "import warnings\n",
    "warnings.filterwarnings(\"ignore\")\n"
   ]
  },
  {
   "cell_type": "code",
   "execution_count": null,
   "id": "3330cfb5-1e9a-4b53-b908-3f1c4499b37a",
   "metadata": {},
   "outputs": [],
   "source": [
    "df.isnull().sum()>1\n",
    "\n",
    "#Droping rows based on few Row values\n",
    "df.dropna(subset = ['ID','Order_ID'],inplace = True)\n",
    "df.dropna(how = all)\n",
    "\n",
    "# Filling Missing Values in a column values.\n",
    "df['Price'].fillna(method = 'ffill',inplace =True)\n",
    "df['Quantity'] = df['Quantity'].fillna(0)\n",
    "df['quantity'].fillna(df['quantity'].median(), inplace= True)\n"
   ]
  },
  {
   "cell_type": "code",
   "execution_count": null,
   "id": "70650b30-c114-42ee-ab8b-433f6db53192",
   "metadata": {},
   "outputs": [],
   "source": [
    "df.sort_values(by='ID', ascending=False).drop_duplicates(keep='first')\n"
   ]
  },
  {
   "cell_type": "code",
   "execution_count": null,
   "id": "828726d9-625a-48ab-9c66-cb39b63a3f04",
   "metadata": {},
   "outputs": [],
   "source": [
    "# Removing Duplicates\n",
    "\n",
    "df.drop_duplicates(inplace = True) #Keeps first Occurance.\n",
    "\n",
    "df.drop_duplicates(keep = last , inplace =True) # Keeps Last Occurance.\n",
    "\n",
    "df.drop_duplicates(subset = ['ID','Order_id'], inplace= True) # Based on specific column.\n",
    "\n",
    "df.drop_duplicates(keep=False, inplace= True) # Removes all duplicate values."
   ]
  },
  {
   "cell_type": "code",
   "execution_count": null,
   "id": "534c120a-2c02-4c03-abc9-41f3da9d5b7c",
   "metadata": {},
   "outputs": [],
   "source": [
    "# Converting data types\n",
    "\n",
    "df['ID'] = pd.to_numeric(df['ID'])\n",
    "\n",
    "df['ID']  = df['ID'].astype(int)\n",
    "df['ID'] = df['ID'].fillna(0).astype(int)\n",
    "\n",
    "df['ID']  = df['ID'].astype(float)\n",
    "\n",
    "df['ID']  = df['ID'].astype(str)\n",
    "\n",
    "df['date'] = pd.to_datetime(df['date'])\n",
    "\n",
    "df['date'] = pd.to_datetime(df['date'],format = '%d-%m-%y')\n",
    "\n",
    "df['gender'] = df['gender'].astype('category')\n",
    "\n",
    "df = df.astype({'col1': 'int', 'col2': 'float', 'col3': 'category'})\n",
    "\n",
    "df.index = df.index.astype(int)\n",
    "df.index = pd.to_datetime(df.index)\n"
   ]
  },
  {
   "cell_type": "code",
   "execution_count": null,
   "id": "24e28426-3ef9-43e8-b83a-fd4aa77bd47b",
   "metadata": {},
   "outputs": [],
   "source": [
    "df['category'] = df['category'].str.lower().str.strip()\n",
    "\n",
    "df['city_2'] = df['City'].str.split(' ').str[0]\n",
    "\n",
    "all_data['Month'] = all_data['Order Date'].str[0:2]"
   ]
  },
  {
   "cell_type": "code",
   "execution_count": null,
   "id": "6d1f7c33-a0b6-467e-a030-a7797fa73c83",
   "metadata": {},
   "outputs": [],
   "source": [
    "pivot_df = df.pivot(index='report_date', columns='product', values='sales')\n",
    "\n",
    "melt_df = pd.melt(df, id_vars=['report_date'], value_vars=['A_sales', 'B_sales'], var_name='product', value_name='sales')"
   ]
  },
  {
   "cell_type": "code",
   "execution_count": null,
   "id": "89acc21b-2464-403a-9bc0-da296dc4f20c",
   "metadata": {},
   "outputs": [],
   "source": [
    "df['rank'] = df['Score'].rank(ascending=False)\n",
    "\n",
    "df['dense_rank'] = df['Score'].rank(method='dense', ascending=False)\n",
    "\n",
    "df['rank_within_category'] = df.groupby('Category')['Score'].rank(ascending=False)\n",
    "\n",
    "df['rank_within_partition'] = df.groupby(['Category', 'Region'])['Score'].rank(method = 'dense', ascending=False)\n",
    "\n",
    "df['row_number'] = range(1, len(df) + 1)\n",
    "\n",
    "df['row_number'] = df.groupby(['Category', 'Region']).cumcount() + 1\n",
    "\n",
    "df['row_number'] = df.groupby(['Category', 'Region'])['Score'].rank(method='first', ascending=False).astype(int)\n",
    "\n",
    "df['lag_sales_by_id'] = df.groupby('ID')['Sales'].shift(1)  # LAG within groups\n",
    "\n",
    "df['lead_sales_by_id'] = df.groupby('ID')['Sales'].shift(-1)  # LEAD within groups"
   ]
  },
  {
   "cell_type": "code",
   "execution_count": null,
   "id": "314af7ae-94f4-4eaf-894a-b91cf693c8a1",
   "metadata": {},
   "outputs": [],
   "source": []
  },
  {
   "cell_type": "code",
   "execution_count": null,
   "id": "1fec7309-fc00-412f-8839-343180c7002c",
   "metadata": {},
   "outputs": [],
   "source": [
    "from pyspark.sql import SparkSession\n",
    "\n",
    "spark = SparkSession.builder.appName('EXL').master(\"local[*]\").getOrCreate()\n"
   ]
  },
  {
   "cell_type": "code",
   "execution_count": null,
   "id": "03cb6101-484e-44fa-980d-eb1d7b6bb9f5",
   "metadata": {},
   "outputs": [],
   "source": [
    "emp_final.write.format('csv').option('header', True).mode('overwrite').save('path/to/save')\n",
    "\n",
    "df = saprk.read.format('csv').option('header', True).option(inferSchema, True).load('path/to/read')"
   ]
  },
  {
   "cell_type": "code",
   "execution_count": null,
   "id": "78ee6b4e-f797-4917-892b-579f2f2a7c6b",
   "metadata": {},
   "outputs": [],
   "source": [
    "df = emp.select(col('emp_id'), emp.age, emp.salary)\n",
    "\n",
    "df_caseted = emp.select(expr('employee_id' as emp_id), emp.name, expr(\"cast(age as int) as age\"), emp.salary)\n",
    "\n",
    "df = emp.select('emp_id', 'name', 'salary').where(col('age') > 30)\n",
    "\n",
    "df = emp.select('emp_id', 'name', 'age', col('salary').cast('double'))\n",
    "\n",
    "df = emp.withColumn('tax', col('salary')*0.2)\n",
    "\n",
    "df = emp.withColumnRenamed('employee_id', 'emp_id')\n",
    "\n",
    "df = emp.drop('column_2')\n",
    "\n",
    "df = emp.withColumn('new_gender', when(col('gender') == 'Male', 'M'). when(col('gender')=='Female', 'F').otherwise('None'))\n",
    "\n",
    "df = emp.withCoulmn('hire_date', to_date(col('hire_date'), 'yyyy-mm-dd'))\n",
    "\n",
    "df = emp.na.drop()\n",
    "\n",
    "from pyspark.sql.functions import coalesce, lit\n",
    "\n",
    "df = emp.withColumn('new_gender', coalesce('new_gender', lit(0)))\n",
    "\n",
    "df = emp_1.union(emp_2)\n",
    "\n",
    "df = emp.orderBy(col('salary').desc())\n",
    "\n",
    "df = emp.select('dept_id').distinct()"
   ]
  },
  {
   "cell_type": "code",
   "execution_count": null,
   "id": "47a58c7e-622e-4065-a3e8-8b730487b3cc",
   "metadata": {},
   "outputs": [],
   "source": [
    "emp_count = emp.groupBy('dept_name').agg(count('emp_id').alias('total_dept_count')).orderBy(col('total_dept_count').desc())\n",
    "\n",
    "emp_avg = emp.groupBy('dept_id').agg(avg('salary').alias('avg_dept_salary')).where(col('avg_dept_salary') > 5000)\n",
    "\n"
   ]
  },
  {
   "cell_type": "code",
   "execution_count": 11,
   "id": "4d704eb9-5cd9-4619-88d7-ef7d0ff45621",
   "metadata": {},
   "outputs": [
    {
     "name": "stdout",
     "output_type": "stream",
     "text": [
      "salesperson_id\n",
      "1    500\n",
      "2    700\n",
      "3    300\n",
      "4    800\n",
      "5    600\n",
      "6    200\n",
      "Name: sales_amount, dtype: int64\n"
     ]
    }
   ],
   "source": [
    "import pandas as pd\n",
    "data = {\n",
    "    'salesperson_id': [1, 2, 3, 4, 5, 6],\n",
    "    'region': ['North', 'North', 'South', 'South', 'North', 'South'],\n",
    "    'sales_amount': [500, 700, 300, 800, 600, 200]\n",
    "}\n",
    "\n",
    "# Create a DataFrame\n",
    "df = pd.DataFrame(data)\n",
    "\n",
    "# Add a rank column, partitioned by 'region' and ordered by 'sales_amount'\n",
    "df['rank'] = df.groupby('region')['sales_amount'].rank(method='dense', ascending=False)\n",
    "gr_df = df.groupby('salesperson_id')['sales_amount'].sum()\n",
    "\n",
    "print(gr_df)"
   ]
  },
  {
   "cell_type": "code",
   "execution_count": 15,
   "id": "eb472b09-ebb5-495f-a02d-b7f284d414c0",
   "metadata": {},
   "outputs": [
    {
     "data": {
      "text/plain": [
       "month    service_keyword   \n",
       "01-2024  CA_22TK_1W               4\n",
       "         CA_22TK_1W_N             8\n",
       "         CONTEST_22TK_1WK      4609\n",
       "         CONTEST_22TK_1WK_N     398\n",
       "         CONTEST_35TK_1WK        85\n",
       "                               ... \n",
       "12-2023  MM_CONTEST_15TK_1W      33\n",
       "         OM_GAMES_M               7\n",
       "         OM_SPORTS_19TK_1M        4\n",
       "         RADIOG_20TK_1M           4\n",
       "         SSK_199TK_1M             3\n",
       "Name: count, Length: 171, dtype: int64"
      ]
     },
     "execution_count": 15,
     "metadata": {},
     "output_type": "execute_result"
    }
   ],
   "source": [
    "import pandas as pd\n",
    "\n",
    "df = pd.read_csv(r'D:\\Download\\bkash_sub_mgr.csv')\n",
    "\n",
    "grouped_df = df.groupby(['month','service_keyword'])['count'].sum()\n",
    "\n",
    "grouped_df\n"
   ]
  },
  {
   "cell_type": "code",
   "execution_count": 15,
   "id": "c8b2c675-68d8-4195-a6a5-94c9fa6209ae",
   "metadata": {},
   "outputs": [
    {
     "name": "stdout",
     "output_type": "stream",
     "text": [
      "([10, 8, 3], [9, 7, 4, 1, 1])\n"
     ]
    }
   ],
   "source": [
    "def splitArray(s):\n",
    "\n",
    "    s = sorted(s, reverse= True)\n",
    "    \n",
    "    input_array = s\n",
    "    sum_of_array = sum(s)/2\n",
    "    output_array = []\n",
    "\n",
    "    for i in s:\n",
    "        if sum(output_array) + i <= sum_of_array:\n",
    "            output_array.append(i)\n",
    "            input_array.remove(i)\n",
    "\n",
    "    return output_array,input_array\n",
    "\n",
    "\n",
    "s = [3,4,8,9,10,7,1,1]\n",
    "result = splitArray(s)\n",
    "print(result)"
   ]
  },
  {
   "cell_type": "code",
   "execution_count": 10,
   "id": "4e20a7e6-8a6f-4848-8447-26a4c4047e6d",
   "metadata": {},
   "outputs": [
    {
     "ename": "NameError",
     "evalue": "name 'output_array' is not defined",
     "output_type": "error",
     "traceback": [
      "\u001b[1;31m---------------------------------------------------------------------------\u001b[0m",
      "\u001b[1;31mNameError\u001b[0m                                 Traceback (most recent call last)",
      "Cell \u001b[1;32mIn[10], line 21\u001b[0m\n\u001b[0;32m     19\u001b[0m s \u001b[38;5;241m=\u001b[39m \u001b[38;5;124m'\u001b[39m\u001b[38;5;124m8931\u001b[39m\u001b[38;5;124m'\u001b[39m\n\u001b[0;32m     20\u001b[0m result \u001b[38;5;241m=\u001b[39m maxHour(s)\n\u001b[1;32m---> 21\u001b[0m \u001b[38;5;28mprint\u001b[39m(\u001b[38;5;124mf\u001b[39m\u001b[38;5;124m\"\u001b[39m\u001b[38;5;124mMax Hour :\u001b[39m\u001b[38;5;132;01m{\u001b[39;00moutput_array[:\u001b[38;5;241m2\u001b[39m]\u001b[38;5;132;01m}\u001b[39;00m\u001b[38;5;124m:output_array[2:]\u001b[39m\u001b[38;5;124m\"\u001b[39m)\n",
      "\u001b[1;31mNameError\u001b[0m: name 'output_array' is not defined"
     ]
    }
   ],
   "source": [
    "def maxHour(s):\n",
    "\n",
    "    input_array = list(s)\n",
    "    max_hour = ['2','3','5','9']\n",
    "    output_array = []\n",
    "\n",
    "    for i in range(4):\n",
    "        possible_digits = [digit for digit in input_array if digit <= max_hour[i]]\n",
    "\n",
    "        if i == 2 and '2' not in input_array:\n",
    "            possible_digits = [digit for digit in input_array if digit <= '9']\n",
    "        \n",
    "        max_num = max(possible_digits)\n",
    "        output_array.append(max_num)\n",
    "        input_array.remove(max_num)\n",
    "\n",
    "    return output_array\n",
    "\n",
    "s = '8931'\n",
    "result = maxHour(s)\n",
    "print(f\"Max Hour :{output_array[:2]}:{output_array[2:]\")\n",
    "\n"
   ]
  },
  {
   "cell_type": "code",
   "execution_count": 2,
   "id": "7a284176-3828-442e-8eb2-7bdf33887b68",
   "metadata": {},
   "outputs": [
    {
     "name": "stdout",
     "output_type": "stream",
     "text": [
      "a2b3c1s1d5\n"
     ]
    }
   ],
   "source": [
    "def compressString(s):\n",
    "\n",
    "    output_list = []\n",
    "    count = 1\n",
    "\n",
    "    for i in range(1,len(s)):\n",
    "        if s[i-1] == s[i]:\n",
    "            count += 1\n",
    "\n",
    "        else:\n",
    "            output_list.append(s[i-1]+str(count))\n",
    "            count = 1\n",
    "\n",
    "    output_list.append(s[-1]+str(count))\n",
    "\n",
    "    return''.join(output_list)\n",
    "\n",
    "s= 'aabbbcsddddd'\n",
    "result = compressString(s)\n",
    "print(result)\n"
   ]
  },
  {
   "cell_type": "code",
   "execution_count": 7,
   "id": "3c8d93b7-b868-4896-82c9-17cc963cb8e7",
   "metadata": {},
   "outputs": [
    {
     "name": "stdout",
     "output_type": "stream",
     "text": [
      "1931\n"
     ]
    }
   ],
   "source": [
    "def maxHour(s):\n",
    "\n",
    "    max_hour = ['2','3','5','9']\n",
    "    input_array = list(s)\n",
    "    output_list = []\n",
    "\n",
    "    for i in range(4):\n",
    "\n",
    "        possible_digits = [digit for digit in input_array if digit<=max_hour[i]]\n",
    "\n",
    "        if i == 1 and '2' not in input_array:\n",
    "            possible_digits = [digit for digit in input_array if digit <='9']\n",
    "\n",
    "        max_num = max(possible_digits)\n",
    "        output_list.append(max_num)\n",
    "        input_array.remove(max_num)\n",
    "\n",
    "    return''.join(output_list)\n",
    "\n",
    "s = '3119'\n",
    "result = maxHour(s)\n",
    "print(result)\n",
    "        "
   ]
  },
  {
   "cell_type": "code",
   "execution_count": 8,
   "id": "def96dc2-71a4-4cd4-8a27-2309e5816ff0",
   "metadata": {},
   "outputs": [
    {
     "name": "stdout",
     "output_type": "stream",
     "text": [
      "[9, 8, 7, 6, 4, 3, 2, 1]\n"
     ]
    }
   ],
   "source": [
    "s = [1,2,3,4,6,7,8,9]\n",
    "\n",
    "reversed_list = s[::-1]\n",
    "print(reversed_list)"
   ]
  },
  {
   "cell_type": "code",
   "execution_count": 13,
   "id": "00aace04-9536-4555-88bd-ebe150c66ca5",
   "metadata": {},
   "outputs": [
    {
     "name": "stdout",
     "output_type": "stream",
     "text": [
      "{1: 4, 2: 1, 3: 2, 4: 5, 5: 7}\n"
     ]
    }
   ],
   "source": [
    "def maxCount(s):\n",
    "\n",
    "    output_dict = {}\n",
    "    for num in s:\n",
    "        if num in output_dict:\n",
    "            output_dict[num] += 1\n",
    "\n",
    "        else:\n",
    "            output_dict[num] = 1\n",
    "\n",
    "    return output_dict\n",
    "\n",
    "s = [1,1,1,1,2,3,3,4,4,4,4,4,5,5,5,5,5,5,5]\n",
    "result = maxCount(s)\n",
    "print(result)\n",
    "        "
   ]
  },
  {
   "cell_type": "code",
   "execution_count": 12,
   "id": "3214b039-c252-4ea3-ae68-a26210c1b173",
   "metadata": {},
   "outputs": [
    {
     "name": "stdout",
     "output_type": "stream",
     "text": [
      "[5]\n"
     ]
    }
   ],
   "source": [
    "def maxCount(s):\n",
    "    output_dict = {}  # Dictionary to count occurrences\n",
    "    for num in s:\n",
    "        if num in output_dict:  # Check if num is already a key\n",
    "            output_dict[num] += 1\n",
    "        else:\n",
    "            output_dict[num] = 1  # Initialize count\n",
    "\n",
    "    max_count = max(output_dict.values())  # Find max frequency\n",
    "    max_elements = [key for key, value in output_dict.items() if value == max_count]\n",
    "\n",
    "    return max_elements  # Return elements with highest frequency\n",
    "\n",
    "s = [1, 1, 1, 1, 2, 3, 3, 4, 4, 4, 4, 4, 5, 5, 5, 5, 5, 5, 5]\n",
    "result = maxCount(s)\n",
    "print(result)  # Output: [5] (since 5 appears the most times)\n"
   ]
  },
  {
   "cell_type": "code",
   "execution_count": 18,
   "id": "be117d3e-43ca-4026-87c6-4afde6755cae",
   "metadata": {},
   "outputs": [
    {
     "name": "stdout",
     "output_type": "stream",
     "text": [
      "([6, 5, 1], [4, 3, 2, 1, 1, 1])\n"
     ]
    }
   ],
   "source": [
    "def splitArray(s):\n",
    "\n",
    "    s.sort(reverse = True)\n",
    "\n",
    "    split_array_1 = []\n",
    "    split_array_2 = []\n",
    "    for num in s:\n",
    "        if sum(split_array_1) + num <= sum(s)/2:\n",
    "            split_array_1.append(num)\n",
    "\n",
    "        else:\n",
    "            split_array_2.append(num)\n",
    "\n",
    "    return split_array_1 , split_array_2\n",
    "\n",
    "s = [2,3,4,5,6,1,1,1,1]\n",
    "result = splitArray(s)\n",
    "print(result)"
   ]
  },
  {
   "cell_type": "code",
   "execution_count": 20,
   "id": "9b1c248c-b715-488e-ba60-7603879b5df4",
   "metadata": {},
   "outputs": [
    {
     "name": "stdout",
     "output_type": "stream",
     "text": [
      "{'shivaraj': 8000, 'Praveen': 12000, 'Sudeep': 7000}\n"
     ]
    }
   ],
   "source": [
    "s = [('shivaraj',5000),('Praveen',10000),('Sudeep',7000),('shivaraj',3000),('Praveen',2000)]\n",
    "\n",
    "output_dict = {}\n",
    "for key , value in s:\n",
    "    if key in output_dict:\n",
    "        output_dict[key] += value\n",
    "\n",
    "    else:\n",
    "        output_dict[key] = value\n",
    "\n",
    "print(output_dict)"
   ]
  },
  {
   "cell_type": "code",
   "execution_count": 27,
   "id": "2abe17fb-0987-4e9d-85b4-309cd841cf84",
   "metadata": {},
   "outputs": [
    {
     "name": "stdout",
     "output_type": "stream",
     "text": [
      "Praveen 12000\n"
     ]
    }
   ],
   "source": [
    "max_value = max(output_dict.values())\n",
    "\n",
    "for key , value in output_dict.items():\n",
    "\n",
    "    if value == max_value :\n",
    "        print(key,value)"
   ]
  },
  {
   "cell_type": "code",
   "execution_count": 35,
   "id": "4cdf6b81-0fcd-4c51-81cd-00cea67a0e4a",
   "metadata": {},
   "outputs": [
    {
     "data": {
      "text/plain": [
       "[[1, 3], [4, 6], [7, 9]]"
      ]
     },
     "execution_count": 35,
     "metadata": {},
     "output_type": "execute_result"
    }
   ],
   "source": [
    "nested_list = [[1, 2, 3], [4, 5, 6], [7, 8, 9]]  \n",
    "n = 1 \n",
    "\n",
    "for i in nested_list:\n",
    "    i.remove(i[n])\n",
    "\n",
    "nested_list"
   ]
  },
  {
   "cell_type": "code",
   "execution_count": 36,
   "id": "1ab7d5ec-1ae7-463c-9d27-6aa053fe500a",
   "metadata": {},
   "outputs": [
    {
     "data": {
      "text/plain": [
       "[1, 2, 3, 4, 5, 6]"
      ]
     },
     "execution_count": 36,
     "metadata": {},
     "output_type": "execute_result"
    }
   ],
   "source": [
    "nested_list = [[1, 2], [3, 4], [5, 6]] \n",
    "flatend_list = []\n",
    "\n",
    "for i in nested_list:\n",
    "    for j in i:\n",
    "        flatend_list.append(j)\n",
    "\n",
    "flatend_list\n",
    "    "
   ]
  },
  {
   "cell_type": "code",
   "execution_count": 63,
   "id": "2a6b676d-232e-46c0-8678-8824930a0e85",
   "metadata": {},
   "outputs": [
    {
     "data": {
      "text/plain": [
       "[1, 2, 3, 'a', 'b', 'c', 'a', 'e', 'f', 'd', 'a']"
      ]
     },
     "execution_count": 63,
     "metadata": {},
     "output_type": "execute_result"
    }
   ],
   "source": [
    "nested_list = [1, 2, 3, ['a', 'b', ['c', 'a', 'e', ['f', 'd', 'a']]]]\n",
    "flatened_list = []\n",
    "nest_4 = nested_list[3][2][3]\n",
    "nest_3 = nested_list[3][2][0:3]\n",
    "nest_2 = nested_list[3][0:2]\n",
    "nest_1 = nested_list[0:3]\n",
    "\n",
    "for lst in [nest_1,nest_2,nest_3,nest_4]:\n",
    "    for item in lst:\n",
    "        flatened_list.append(item)\n",
    "\n",
    "flatened_list"
   ]
  },
  {
   "cell_type": "code",
   "execution_count": 72,
   "id": "17ee5b1d-5120-4afc-8160-2c43957ee92f",
   "metadata": {},
   "outputs": [
    {
     "name": "stdout",
     "output_type": "stream",
     "text": [
      "[3, 5, 7, 9, 11, 13, 15, 17, 19]\n"
     ]
    }
   ],
   "source": [
    "def findPrime(s):\n",
    "    primes = []\n",
    "    if s < 2:\n",
    "        return False\n",
    "\n",
    "    for num in range(2,s+1):\n",
    "        if num % 2 != 0:\n",
    "            primes.append(num)\n",
    "    return primes\n",
    "\n",
    "s = 20\n",
    "result = findPrime(s)\n",
    "print(result)"
   ]
  },
  {
   "cell_type": "code",
   "execution_count": 79,
   "id": "4eca6a38-1296-466e-a3c2-ebdb38e23e38",
   "metadata": {},
   "outputs": [
    {
     "name": "stdout",
     "output_type": "stream",
     "text": [
      "True\n"
     ]
    }
   ],
   "source": [
    "def checkPrime(s):\n",
    "\n",
    "    if s % 2 == 0 and s > 1:\n",
    "        return False\n",
    "\n",
    "    else:\n",
    "        return True\n",
    "\n",
    "s = 19\n",
    "print(checkPrime(s))"
   ]
  },
  {
   "cell_type": "code",
   "execution_count": 2,
   "id": "ef7d263a-5d1a-4a12-9fd3-7377f6ec230c",
   "metadata": {},
   "outputs": [
    {
     "name": "stdout",
     "output_type": "stream",
     "text": [
      "w\n"
     ]
    }
   ],
   "source": [
    "def get_first_nonrepeat_char(s):\n",
    "\n",
    "    char_count = {}\n",
    "\n",
    "    for char in s:\n",
    "        char_count[char] = char_count.get(char,0) + 1\n",
    "\n",
    "    for char in s:\n",
    "        if char_count[char] == 1:\n",
    "            return char\n",
    "\n",
    "    return None\n",
    "\n",
    "s = 'swiss'\n",
    "print(get_first_nonrepeat_char(s))\n",
    "\n"
   ]
  },
  {
   "cell_type": "code",
   "execution_count": 90,
   "id": "23cb0f61-6eaf-4910-910e-0120a00c9d8f",
   "metadata": {},
   "outputs": [
    {
     "name": "stdout",
     "output_type": "stream",
     "text": [
      "54321\n"
     ]
    }
   ],
   "source": [
    "def reveseInterger(s):\n",
    "\n",
    "    reversed_interger = str(s)[::-1]\n",
    "\n",
    "    return reversed_interger\n",
    "\n",
    "s = 12345\n",
    "print(reveseInterger(s))"
   ]
  },
  {
   "cell_type": "code",
   "execution_count": 7,
   "id": "561d55e1-4351-40d1-80a5-d3ec1dd674f2",
   "metadata": {},
   "outputs": [
    {
     "name": "stdout",
     "output_type": "stream",
     "text": [
      "World Hello\n"
     ]
    }
   ],
   "source": [
    "def reverseWords(s):\n",
    "    \n",
    "    return' '.join(s.split()[::-1])\n",
    "    \n",
    "\n",
    "s = \"Hello World\" \n",
    "print(reverseWords(s))\n",
    "        \n",
    "\n",
    "        "
   ]
  },
  {
   "cell_type": "code",
   "execution_count": 12,
   "id": "77513745-65de-47a1-b253-1561558b6b60",
   "metadata": {},
   "outputs": [
    {
     "name": "stdout",
     "output_type": "stream",
     "text": [
      "34\n"
     ]
    }
   ],
   "source": [
    "def fibonacci(n):\n",
    "\n",
    "    sequence = []\n",
    "    a, b = 0, 1\n",
    "    for _ in range(n):\n",
    "        sequence.append(a)\n",
    "\n",
    "        a, b = b, a+b\n",
    "\n",
    "    return sequence\n",
    "\n",
    "n = 10\n",
    "print(fibonacci(n))"
   ]
  }
 ],
 "metadata": {
  "kernelspec": {
   "display_name": "Python 3 (ipykernel)",
   "language": "python",
   "name": "python3"
  },
  "language_info": {
   "codemirror_mode": {
    "name": "ipython",
    "version": 3
   },
   "file_extension": ".py",
   "mimetype": "text/x-python",
   "name": "python",
   "nbconvert_exporter": "python",
   "pygments_lexer": "ipython3",
   "version": "3.12.7"
  }
 },
 "nbformat": 4,
 "nbformat_minor": 5
}
